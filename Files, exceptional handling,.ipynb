{
 "cells": [
  {
   "cell_type": "code",
   "execution_count": 6,
   "id": "97953756",
   "metadata": {},
   "outputs": [
    {
     "data": {
      "text/plain": [
       "'ANS.........\\nInterpreted: Code is executed line by line (e.g., Python).\\n\\nCompiled: Code is translated into machine code before execution (e.g., C, C++).\\n'"
      ]
     },
     "execution_count": 6,
     "metadata": {},
     "output_type": "execute_result"
    }
   ],
   "source": [
    "#1.What is the difference between interpreted and compiled languages?\n",
    "'''ANS.........\n",
    "Interpreted: Code is executed line by line (e.g., Python).\n",
    "\n",
    "Compiled: Code is translated into machine code before execution (e.g., C, C++).\n",
    "'''"
   ]
  },
  {
   "cell_type": "code",
   "execution_count": 7,
   "id": "07164e54",
   "metadata": {},
   "outputs": [
    {
     "data": {
      "text/plain": [
       "'ANS \\nA mechanism to handle runtime errors using try, except, else, and finally blocks.\\n'"
      ]
     },
     "execution_count": 7,
     "metadata": {},
     "output_type": "execute_result"
    }
   ],
   "source": [
    "#2.  What is exception handling in Python?\n",
    "'''ANS \n",
    "A mechanism to handle runtime errors using try, except, else, and finally blocks.\n",
    "'''"
   ]
  },
  {
   "cell_type": "code",
   "execution_count": 8,
   "id": "b300a911",
   "metadata": {},
   "outputs": [
    {
     "data": {
      "text/plain": [
       "'ANS \\nExecutes code regardless of whether an exception was raised—commonly used for cleanup tasks.\\n'"
      ]
     },
     "execution_count": 8,
     "metadata": {},
     "output_type": "execute_result"
    }
   ],
   "source": [
    "#3. What is the purpose of the finally block in exception handling?\n",
    "'''ANS \n",
    "Executes code regardless of whether an exception was raised—commonly used for cleanup tasks.\n",
    "'''"
   ]
  },
  {
   "cell_type": "code",
   "execution_count": 9,
   "id": "2c877ed3",
   "metadata": {},
   "outputs": [
    {
     "data": {
      "text/plain": [
       "'ANS\\nA way to track events that happen during execution using the logging module (e.g., errors, warnings).\\n'"
      ]
     },
     "execution_count": 9,
     "metadata": {},
     "output_type": "execute_result"
    }
   ],
   "source": [
    "#4. What is logging in Python?\n",
    "\n",
    "'''ANS\n",
    "A way to track events that happen during execution using the logging module (e.g., errors, warnings).\n",
    "'''"
   ]
  },
  {
   "cell_type": "code",
   "execution_count": 10,
   "id": "b5160f05",
   "metadata": {},
   "outputs": [
    {
     "data": {
      "text/plain": [
       "\"ANS \\nIt's a destructor method called when an object is garbage collected to perform cleanup.\\n\\n\\n\""
      ]
     },
     "execution_count": 10,
     "metadata": {},
     "output_type": "execute_result"
    }
   ],
   "source": [
    "#5. What is the significance of the __del__ method in Python?\n",
    "'''ANS \n",
    "It's a destructor method called when an object is garbage collected to perform cleanup.\n",
    "\n",
    "\n",
    "'''"
   ]
  },
  {
   "cell_type": "code",
   "execution_count": 12,
   "id": "431de537",
   "metadata": {},
   "outputs": [
    {
     "data": {
      "text/plain": [
       "'ANS\\nimport module: Access functions with module.func().\\n\\nfrom module import func: Using func() directly.\\n\\n'"
      ]
     },
     "execution_count": 12,
     "metadata": {},
     "output_type": "execute_result"
    }
   ],
   "source": [
    "#6 What is the difference between import and from ... import in Python?\n",
    "'''ANS\n",
    "import module: Access functions with module.func().\n",
    "\n",
    "from module import func: Using func() directly.\n",
    "\n",
    "'''"
   ]
  },
  {
   "cell_type": "code",
   "execution_count": 13,
   "id": "e9a3293e",
   "metadata": {},
   "outputs": [],
   "source": [
    "#7. How can you handle multiple exceptions in Python?\n",
    "\n",
    "\"\"\"ANS\n",
    "\n",
    "Using multiple except blocks or a tuple\"\"\"\n",
    "try:\n",
    "    ...\n",
    "except (TypeError, ValueError) as e:\n",
    "    ...\n"
   ]
  },
  {
   "cell_type": "code",
   "execution_count": 14,
   "id": "65087695",
   "metadata": {},
   "outputs": [
    {
     "data": {
      "text/plain": [
       "'ANS \\nEnsures the file is properly closed after use, even if an error occurs.\\n\\n'"
      ]
     },
     "execution_count": 14,
     "metadata": {},
     "output_type": "execute_result"
    }
   ],
   "source": [
    "#8. What is the purpose of the with statement when handling files in Python?\n",
    "'''ANS \n",
    "Ensures the file is properly closed after use, even if an error occurs.\n",
    "\n",
    "'''"
   ]
  },
  {
   "cell_type": "code",
   "execution_count": 15,
   "id": "44c8feb5",
   "metadata": {},
   "outputs": [
    {
     "data": {
      "text/plain": [
       "' ANS \\nTracks issues, debugging, auditing, and understanding application behavior.\\n'"
      ]
     },
     "execution_count": 15,
     "metadata": {},
     "output_type": "execute_result"
    }
   ],
   "source": [
    "#9. What are the advantages of using logging in a program?\n",
    "\"\"\" ANS \n",
    "Tracks issues, debugging, auditing, and understanding application behavior.\n",
    "\"\"\"\n"
   ]
  },
  {
   "cell_type": "code",
   "execution_count": 17,
   "id": "13b1fd3d",
   "metadata": {},
   "outputs": [
    {
     "data": {
      "text/plain": [
       "\"'ANS\\nTracks issues, debugging, auditing, and understanding application behavior.\\n\""
      ]
     },
     "execution_count": 17,
     "metadata": {},
     "output_type": "execute_result"
    }
   ],
   "source": [
    "#10. What are the advantages of using logging in a program?\n",
    "''''ANS\n",
    "Tracks issues, debugging, auditing, and understanding application behavior.\n",
    "'''\n"
   ]
  },
  {
   "cell_type": "code",
   "execution_count": 18,
   "id": "c33daa21",
   "metadata": {},
   "outputs": [
    {
     "data": {
      "text/plain": [
       "' ANS\\nAutomatic allocation and deallocation of memory using reference counting and garbage collection.\\n'"
      ]
     },
     "execution_count": 18,
     "metadata": {},
     "output_type": "execute_result"
    }
   ],
   "source": [
    "#11. What is memory management in Python?\n",
    "''' ANS\n",
    "Automatic allocation and deallocation of memory using reference counting and garbage collection.\n",
    "'''\n"
   ]
  },
  {
   "cell_type": "code",
   "execution_count": 19,
   "id": "0928d6d1",
   "metadata": {},
   "outputs": [
    {
     "data": {
      "text/plain": [
       "'ANS\\n1. try block to write code.\\n\\n2. except block to catch errors.\\n\\n3. Optional else for code if no exception occurs.\\n\\n4. Optional finally to always execute cleanup code.\\n'"
      ]
     },
     "execution_count": 19,
     "metadata": {},
     "output_type": "execute_result"
    }
   ],
   "source": [
    "#12. What are the basic steps involved in exception handling in Python?\n",
    "'''ANS\n",
    "1. try block to write code.\n",
    "\n",
    "2. except block to catch errors.\n",
    "\n",
    "3. Optional else for code if no exception occurs.\n",
    "\n",
    "4. Optional finally to always execute cleanup code.\n",
    "'''\n"
   ]
  },
  {
   "cell_type": "code",
   "execution_count": 20,
   "id": "4881446a",
   "metadata": {},
   "outputs": [
    {
     "data": {
      "text/plain": [
       "'ANS\\nPrevents memory leaks, improves performance, and ensures efficient resource use.'"
      ]
     },
     "execution_count": 20,
     "metadata": {},
     "output_type": "execute_result"
    }
   ],
   "source": [
    "#13. Why is memory management important in Python?\n",
    "'''ANS\n",
    "Prevents memory leaks, improves performance, and ensures efficient resource use.'''"
   ]
  },
  {
   "cell_type": "code",
   "execution_count": 21,
   "id": "94386617",
   "metadata": {},
   "outputs": [
    {
     "data": {
      "text/plain": [
       "'ANS\\ntry: Block of code to test for errors.\\n\\nexcept: Block that handles the error if one occurs.\\n\\n'"
      ]
     },
     "execution_count": 21,
     "metadata": {},
     "output_type": "execute_result"
    }
   ],
   "source": [
    "#14. What is the role of try and except in exception handling?\n",
    "'''ANS\n",
    "try: Block of code to test for errors.\n",
    "\n",
    "except: Block that handles the error if one occurs.\n",
    "\n",
    "'''"
   ]
  },
  {
   "cell_type": "code",
   "execution_count": 22,
   "id": "b03735aa",
   "metadata": {},
   "outputs": [
    {
     "data": {
      "text/plain": [
       "'ANS\\nUses reference counting and a cyclic garbage collector to clean up unused ob|jects.\\n'"
      ]
     },
     "execution_count": 22,
     "metadata": {},
     "output_type": "execute_result"
    }
   ],
   "source": [
    "#15. How does Python's garbage collection system work?\n",
    "'''ANS\n",
    "Uses reference counting and a cyclic garbage collector to clean up unused ob|jects.\n",
    "'''"
   ]
  },
  {
   "cell_type": "code",
   "execution_count": 23,
   "id": "56cc5805",
   "metadata": {},
   "outputs": [
    {
     "data": {
      "text/plain": [
       "'ANS\\nRuns code only if no exception occurs in the try block.'"
      ]
     },
     "execution_count": 23,
     "metadata": {},
     "output_type": "execute_result"
    }
   ],
   "source": [
    "#16. What is the purpose of the else block in exception handling?\n",
    "'''ANS\n",
    "Runs code only if no exception occurs in the try block.'''"
   ]
  },
  {
   "cell_type": "code",
   "execution_count": 24,
   "id": "c5ee4b7f",
   "metadata": {},
   "outputs": [
    {
     "data": {
      "text/plain": [
       "'ANS\\nDEBUG, INFO, WARNING, ERROR, CRITICAL.\\n'"
      ]
     },
     "execution_count": 24,
     "metadata": {},
     "output_type": "execute_result"
    }
   ],
   "source": [
    "#17. What are the common logging levels in Python?\n",
    "\"\"\"ANS\n",
    "DEBUG, INFO, WARNING, ERROR, CRITICAL.\n",
    "\"\"\"\n",
    "\n"
   ]
  },
  {
   "cell_type": "code",
   "execution_count": 25,
   "id": "59fd3840",
   "metadata": {},
   "outputs": [
    {
     "data": {
      "text/plain": [
       "'ANS\\nos.fork() (Unix only) creates a child process directly.\\n\\nmultiprocessing is cross-platform and provides a higher-level API for creating processes.\\n'"
      ]
     },
     "execution_count": 25,
     "metadata": {},
     "output_type": "execute_result"
    }
   ],
   "source": [
    "#18. What is the difference between os.fork() and multiprocessing in Python?\n",
    "'''ANS\n",
    "os.fork() (Unix only) creates a child process directly.\n",
    "\n",
    "multiprocessing is cross-platform and provides a higher-level API for creating processes.\n",
    "'''\n"
   ]
  },
  {
   "cell_type": "code",
   "execution_count": 26,
   "id": "651e74f6",
   "metadata": {},
   "outputs": [
    {
     "data": {
      "text/plain": [
       "'ANS\\nEnsures data is written to disk and resources are released.\\n'"
      ]
     },
     "execution_count": 26,
     "metadata": {},
     "output_type": "execute_result"
    }
   ],
   "source": [
    "#19. What is the importance of closing a file in Python?\n",
    "'''ANS\n",
    "Ensures data is written to disk and resources are released.\n",
    "'''\n"
   ]
  },
  {
   "cell_type": "code",
   "execution_count": 27,
   "id": "16e44d04",
   "metadata": {},
   "outputs": [
    {
     "data": {
      "text/plain": [
       "'ANS\\nread(): Reads entire file.\\n\\nreadline(): Reads one line at a time.\\n'"
      ]
     },
     "execution_count": 27,
     "metadata": {},
     "output_type": "execute_result"
    }
   ],
   "source": [
    "#20. What is the difference between file.read() and file.readline() in Python?\n",
    "'''ANS\n",
    "read(): Reads entire file.\n",
    "\n",
    "readline(): Reads one line at a time.\n",
    "'''"
   ]
  },
  {
   "cell_type": "code",
   "execution_count": 28,
   "id": "1e40d873",
   "metadata": {},
   "outputs": [
    {
     "data": {
      "text/plain": [
       "'ANS\\nRecords messages during execution, useful for debugging and monitoring.'"
      ]
     },
     "execution_count": 28,
     "metadata": {},
     "output_type": "execute_result"
    }
   ],
   "source": [
    "#21. What is the logging module in Python used for?\n",
    "'''ANS\n",
    "Records messages during execution, useful for debugging and monitoring.'''"
   ]
  },
  {
   "cell_type": "code",
   "execution_count": 5,
   "id": "c209d2c1",
   "metadata": {},
   "outputs": [
    {
     "data": {
      "text/plain": [
       "'ANS\\nInteracts with the operating system (e.g., file paths, directories, environment variables).\\n'"
      ]
     },
     "execution_count": 5,
     "metadata": {},
     "output_type": "execute_result"
    }
   ],
   "source": [
    "#22. What is the os module in Python used for in file handling?\n",
    "'''ANS\n",
    "Interacts with the operating system (e.g., file paths, directories, environment variables).\n",
    "'''"
   ]
  },
  {
   "cell_type": "code",
   "execution_count": 4,
   "id": "6af94b63",
   "metadata": {},
   "outputs": [
    {
     "data": {
      "text/plain": [
       "'ANS\\n\\nCircular references, large object retention, and unpredictable garbage collection timing.'"
      ]
     },
     "execution_count": 4,
     "metadata": {},
     "output_type": "execute_result"
    }
   ],
   "source": [
    "#23.  What are the challenges associated with memory management in Python?\n",
    "'''ANS\n",
    "\n",
    "Circular references, large object retention, and unpredictable garbage collection timing.'''"
   ]
  },
  {
   "cell_type": "code",
   "execution_count": 33,
   "id": "c0c105d5",
   "metadata": {},
   "outputs": [
    {
     "name": "stdout",
     "output_type": "stream",
     "text": [
      "Caught an error: Invalid input provided\n"
     ]
    }
   ],
   "source": [
    "#24. How do you raise an exception manually in Python?\n",
    "'''\n",
    "Using raise statement:'''\n",
    "\n",
    "try:\n",
    "    raise ValueError(\"Invalid input provided\")\n",
    "except ValueError as e:\n",
    "    print(f\"Caught an error: {e}\")\n",
    "\n",
    "\n",
    "\n"
   ]
  },
  {
   "cell_type": "code",
   "execution_count": 3,
   "id": "d502a1cc",
   "metadata": {},
   "outputs": [
    {
     "data": {
      "text/plain": [
       "'ANS\\nUseful for I/O-bound tasks to improve performance by overlapping I/O with computation.\\n'"
      ]
     },
     "execution_count": 3,
     "metadata": {},
     "output_type": "execute_result"
    }
   ],
   "source": [
    "#25.  Why is it important to use multithreading in certain applications?\n",
    "'''ANS\n",
    "Useful for I/O-bound tasks to improve performance by overlapping I/O with computation.\n",
    "'''"
   ]
  },
  {
   "cell_type": "code",
   "execution_count": null,
   "id": "f01d9bc8",
   "metadata": {},
   "outputs": [],
   "source": []
  }
 ],
 "metadata": {
  "kernelspec": {
   "display_name": "Python 3",
   "language": "python",
   "name": "python3"
  },
  "language_info": {
   "codemirror_mode": {
    "name": "ipython",
    "version": 3
   },
   "file_extension": ".py",
   "mimetype": "text/x-python",
   "name": "python",
   "nbconvert_exporter": "python",
   "pygments_lexer": "ipython3",
   "version": "3.11.9"
  }
 },
 "nbformat": 4,
 "nbformat_minor": 5
}
